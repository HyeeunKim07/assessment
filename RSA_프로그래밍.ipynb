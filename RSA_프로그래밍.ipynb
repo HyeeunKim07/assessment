{
  "nbformat": 4,
  "nbformat_minor": 0,
  "metadata": {
    "colab": {
      "provenance": [],
      "authorship_tag": "ABX9TyNtC2Ehl1Wv0/ppDT38Y7fv",
      "include_colab_link": true
    },
    "kernelspec": {
      "name": "python3",
      "display_name": "Python 3"
    },
    "language_info": {
      "name": "python"
    }
  },
  "cells": [
    {
      "cell_type": "markdown",
      "metadata": {
        "id": "view-in-github",
        "colab_type": "text"
      },
      "source": [
        "<a href=\"https://colab.research.google.com/github/HyeeunKim07/assessment/blob/main/RSA_%ED%94%84%EB%A1%9C%EA%B7%B8%EB%9E%98%EB%B0%8D.ipynb\" target=\"_parent\"><img src=\"https://colab.research.google.com/assets/colab-badge.svg\" alt=\"Open In Colab\"/></a>"
      ]
    },
    {
      "cell_type": "markdown",
      "source": [
        "# **RSA 프로그래밍**"
      ],
      "metadata": {
        "id": "Taj3znBLeyqO"
      }
    },
    {
      "cell_type": "markdown",
      "source": [
        "# **암호화 알고리즘**"
      ],
      "metadata": {
        "id": "1Yk4bC6NN6z6"
      }
    },
    {
      "cell_type": "code",
      "execution_count": null,
      "metadata": {
        "colab": {
          "base_uri": "https://localhost:8080/"
        },
        "id": "5obeniv5ek8X",
        "outputId": "0ec3a38e-7ced-4f53-bc95-e03bcd4cf57d"
      },
      "outputs": [
        {
          "output_type": "stream",
          "name": "stdout",
          "text": [
            "안녕\n"
          ]
        }
      ],
      "source": [
        "# 사용자 정의 함수 호출\n",
        "\n",
        "def hello() :\n",
        "  print(\"안녕\")\n",
        "\n",
        "hello()"
      ]
    },
    {
      "cell_type": "code",
      "source": [
        "import math\n",
        "\n",
        "plain_text = input(\"문자열을 입력하세요.\")                         # 문자열 입력받기\n",
        "p, q = map(int, input(\"소수 2개를 입력하세요.\").split())     # 소수 입력받기\n",
        "\n",
        "def rp(x, y) : # 서로소 판단, x는 항상 pi_n 값\n",
        "\n",
        "  x_divisor = []\n",
        "\n",
        "  for i in range(2, int(math.sqrt(x))+1) :\n",
        "    if x%i == 0 :\n",
        "      x_divisor.append(x)\n",
        "\n",
        "  for i in range(2, y+1) :\n",
        "    if int(i) not in x_divisor :\n",
        "      return y\n",
        "\n",
        "\n",
        "n = p * q\n",
        "pi_n = (p-1) * (q-1)\n",
        "\n",
        "# e 구하기 : 1 < e < pi_n 이면서 pi_n 과 서로소인 e -> 공개키(n, e)\n",
        "for e in range(2, pi_n):\n",
        "  if rp( pi_n, e ) :\n",
        "    break\n",
        "\n",
        "# d 구하기 -> 개인키(n, d)\n",
        "d = 1\n",
        "while (e * d) % n != 1 :\n",
        "  #print(\"e =\",e,\",   d =\",d)\n",
        "  d += 1\n",
        "\n",
        "for p in plain_text :\n",
        "  print(pow(ord(p), e)%n, end=\" \")"
      ],
      "metadata": {
        "colab": {
          "base_uri": "https://localhost:8080/"
        },
        "id": "RgMCSyJFe4SX",
        "outputId": "6af5050c-ed25-4711-d330-1228a5ace1b2"
      },
      "execution_count": null,
      "outputs": [
        {
          "output_type": "stream",
          "name": "stdout",
          "text": [
            "문자열을 입력하세요.SAMSUNG\n",
            "소수 2개를 입력하세요.19 11\n",
            "201 45 77 201 119 23 25 "
          ]
        }
      ]
    },
    {
      "cell_type": "code",
      "source": [
        "#최대공약수 구하는 거\n",
        "def gcd(num1, num2):\n",
        "    while num2 != 0:\n",
        "        num1, num2 = num2, num1%num2\n",
        "    return num1\n",
        "\n",
        "p = 991\n",
        "q = 997\n",
        "n = p * q\n",
        "tot = (p - 1) * (q - 1)\n",
        "\n",
        "#공개키\n",
        "def publickey():\n",
        "    global tot\n",
        "    e = 2\n",
        "    while e<tot and gcd(e, tot) != 1:\n",
        "        e += 1\n",
        "    return e\n",
        "\n",
        "#개인키\n",
        "def privatekey():\n",
        "    global e\n",
        "    global tot\n",
        "    d = 1\n",
        "    while (publickey() * d) % tot != 1 or d == publickey():\n",
        "        d += 1\n",
        "    return d\n",
        "\n",
        "ori = int((input(\"평서문 : \")))\n",
        "eori = ((ori**publickey())%n)\n",
        "\n",
        "print(\"암호문 : {}\".format(eori))\n",
        "print(\"N : {}\".format(n))\n",
        "print(\"공개키 : {}\".format(publickey()))\n",
        "print(\"개인키 : {}\".format(privatekey()))\n",
        "\n",
        "input()"
      ],
      "metadata": {
        "colab": {
          "base_uri": "https://localhost:8080/",
          "height": 144
        },
        "id": "m9jAkk6gM8JW",
        "outputId": "c711da34-e0b2-4669-8bfc-ebf8556be64d"
      },
      "execution_count": 4,
      "outputs": [
        {
          "name": "stdout",
          "output_type": "stream",
          "text": [
            "평서문 : 1120\n",
            "암호문 : 594912\n",
            "N : 988027\n",
            "공개키 : 7\n",
            "개인키 : 140863\n",
            "한국사\n"
          ]
        },
        {
          "output_type": "execute_result",
          "data": {
            "text/plain": [
              "'한국사'"
            ],
            "application/vnd.google.colaboratory.intrinsic+json": {
              "type": "string"
            }
          },
          "metadata": {},
          "execution_count": 4
        }
      ]
    },
    {
      "cell_type": "markdown",
      "source": [
        "# **복호화 알고리즘**"
      ],
      "metadata": {
        "id": "XpImtHnqNz2Y"
      }
    },
    {
      "cell_type": "code",
      "source": [
        "n = int(input(\"N의 값을 입력하세요 : \"))\n",
        "eori = int(input(\"암호문을 입력하세요 : \"))\n",
        "\n",
        "d = int(input(\"개인키를 입력하세요 : \"))\n",
        "\n",
        "ori = (eori**d)%n\n",
        "print(\"평서문 : {}\".format(ori))\n",
        "input()"
      ],
      "metadata": {
        "colab": {
          "base_uri": "https://localhost:8080/",
          "height": 126
        },
        "id": "V8zCWOUqNLBZ",
        "outputId": "2df63d11-36bc-401e-fdfb-b13e6c39cadd"
      },
      "execution_count": 5,
      "outputs": [
        {
          "name": "stdout",
          "output_type": "stream",
          "text": [
            "N의 값을 입력하세요 : 703050\n",
            "암호문을 입력하세요 : 691282\n",
            "개인키를 입력하세요 : 140683\n",
            "평서문 : 385168\n",
            "988027\n"
          ]
        },
        {
          "output_type": "execute_result",
          "data": {
            "text/plain": [
              "'988027'"
            ],
            "application/vnd.google.colaboratory.intrinsic+json": {
              "type": "string"
            }
          },
          "metadata": {},
          "execution_count": 5
        }
      ]
    }
  ]
}