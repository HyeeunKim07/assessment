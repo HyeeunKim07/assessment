{
  "nbformat": 4,
  "nbformat_minor": 0,
  "metadata": {
    "colab": {
      "provenance": [],
      "authorship_tag": "ABX9TyOOW9+3eJnOApCicwW4YJTm",
      "include_colab_link": true
    },
    "kernelspec": {
      "name": "python3",
      "display_name": "Python 3"
    },
    "language_info": {
      "name": "python"
    }
  },
  "cells": [
    {
      "cell_type": "markdown",
      "metadata": {
        "id": "view-in-github",
        "colab_type": "text"
      },
      "source": [
        "<a href=\"https://colab.research.google.com/github/HyeeunKim07/assessment/blob/main/%EB%82%98%EC%9D%B4%EB%B8%8C_%EB%B2%A0%EC%9D%B4%EC%A6%88_%EC%95%8C%EA%B3%A0%EB%A6%AC%EC%A6%98.ipynb\" target=\"_parent\"><img src=\"https://colab.research.google.com/assets/colab-badge.svg\" alt=\"Open In Colab\"/></a>"
      ]
    },
    {
      "cell_type": "code",
      "source": [
        "from collections import defaultdict\n",
        "from math import log\n",
        "\n",
        "list_of_users = [\n",
        "    [14, 'A', 4],\n",
        "    [17, 'C', 2],\n",
        "    [18, 'B', 5],\n",
        "    [15, 'D', 3],\n",
        "    [16, 'E', 1]\n",
        "]\n",
        "\n",
        "class_feature_probs = defaultdict(lambda: defaultdict(lambda: defaultdict(int)))\n",
        "\n",
        "class_counts = defaultdict(int)\n",
        "\n",
        "for user in list_of_users:\n",
        "    age, level, characteristic = user\n",
        "    class_feature_probs[level]['age'][age] += 1\n",
        "    class_feature_probs[level]['characteristic'][characteristic] += 1\n",
        "    class_counts[level] += 1\n",
        "\n",
        "total_users = len(list_of_users)\n",
        "\n",
        "class_probs = {level: count / total_users for level, count in class_counts.items()}\n",
        "\n",
        "def predict(age, level):\n",
        "    characteristic_probs = {}\n",
        "\n",
        "    for char in set([char for _, _, char in list_of_users]):\n",
        "        char_prob = log(class_feature_probs[level]['characteristic'][char] / class_counts[level] + 1e-9)\n",
        "        characteristic_probs[char] = char_prob\n",
        "\n",
        "    predicted_characteristic = max(characteristic_probs, key=characteristic_probs.get)\n",
        "\n",
        "    characteristics_map = {\n",
        "        1: \"개념부터 탄탄하게 다질 수 있는 문제집을 추천합니다!\",\n",
        "        2: \"개념을 적용할 수 있도록 다양한 유형이 나와있는 문제집을 추천합니다!\",\n",
        "        3: \"개념과 유형 모두 많이 수록되어 있는 문제집을 추천합니다!\",\n",
        "        4: \"고난도 문제 위주로 수록된 문제집을 추천합니다!\",\n",
        "        5: \"모의고사나 수능 기출이 많이 수록된 문제집을 추천합니다!\"\n",
        "    }\n",
        "\n",
        "    return characteristics_map[predicted_characteristic]\n",
        "\n",
        "test_age = int(input(\"나이를 입력하세요: \"))\n",
        "test_level = input(\"A~E로 자신의 레벨을 입력하세요: \")\n",
        "\n",
        "predicted_characteristic = predict(test_age, test_level)\n",
        "\n",
        "print(f\"The predicted characteristic for the test user is: {predicted_characteristic}\")"
      ],
      "metadata": {
        "colab": {
          "base_uri": "https://localhost:8080/"
        },
        "id": "JRW7HRUFR-4B",
        "outputId": "1793cd4a-d673-4305-e52d-b1d09ed0cd0b"
      },
      "execution_count": 2,
      "outputs": [
        {
          "output_type": "stream",
          "name": "stdout",
          "text": [
            "나이를 입력하세요: 17\n",
            "A~E로 자신의 레벨을 입력하세요: A\n",
            "The predicted characteristic for the test user is: 고난도 문제 위주로 수록된 문제집을 추천합니다!\n"
          ]
        }
      ]
    },
    {
      "cell_type": "code",
      "source": [],
      "metadata": {
        "id": "5UwChpMnB3sz"
      },
      "execution_count": null,
      "outputs": []
    }
  ]
}