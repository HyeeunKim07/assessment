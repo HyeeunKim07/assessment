{
  "nbformat": 4,
  "nbformat_minor": 0,
  "metadata": {
    "colab": {
      "provenance": [],
      "authorship_tag": "ABX9TyOp6BzLQ4XgcB0vovNxn9LZ",
      "include_colab_link": true
    },
    "kernelspec": {
      "name": "python3",
      "display_name": "Python 3"
    },
    "language_info": {
      "name": "python"
    }
  },
  "cells": [
    {
      "cell_type": "markdown",
      "metadata": {
        "id": "view-in-github",
        "colab_type": "text"
      },
      "source": [
        "<a href=\"https://colab.research.google.com/github/HyeeunKim07/assessment/blob/main/%EB%82%98%EC%9D%B4%EB%B8%8C_%EB%B2%A0%EC%9D%B4%EC%A6%88_%EC%95%8C%EA%B3%A0%EB%A6%AC%EC%A6%98.ipynb\" target=\"_parent\"><img src=\"https://colab.research.google.com/assets/colab-badge.svg\" alt=\"Open In Colab\"/></a>"
      ]
    },
    {
      "cell_type": "code",
      "execution_count": 1,
      "metadata": {
        "colab": {
          "base_uri": "https://localhost:8080/"
        },
        "id": "o4R4Sfg4RvDK",
        "outputId": "0afb2fec-e161-4009-e132-802382e3dd99"
      },
      "outputs": [
        {
          "output_type": "stream",
          "name": "stdout",
          "text": [
            "The predicted characteristic for the test user is: 4\n"
          ]
        }
      ],
      "source": [
        "from collections import defaultdict\n",
        "from math import log\n",
        "\n",
        "# 데이터\n",
        "list_of_users = [\n",
        "    [14, 'A', 4],\n",
        "    [17, 'C', 2],\n",
        "    [18, 'B', 5],\n",
        "    [15, 'D', 3],\n",
        "    [16, 'E', 1]\n",
        "]\n",
        "\n",
        "# 클래스(레벨)별 각 특성의 확률을 저장할 딕셔너리\n",
        "class_feature_probs = defaultdict(lambda: defaultdict(lambda: defaultdict(int)))\n",
        "\n",
        "# 클래스별 개수를 저장할 딕셔너리\n",
        "class_counts = defaultdict(int)\n",
        "\n",
        "# 데이터에서 클래스별 특성의 개수 계산\n",
        "for user in list_of_users:\n",
        "    age, level, characteristic = user\n",
        "    class_feature_probs[level]['age'][age] += 1\n",
        "    class_feature_probs[level]['characteristic'][characteristic] += 1\n",
        "    class_counts[level] += 1\n",
        "\n",
        "# 클래스별 전체 개수 계산\n",
        "total_users = len(list_of_users)\n",
        "\n",
        "# 클래스별 사전 확률 계산\n",
        "class_probs = {level: count / total_users for level, count in class_counts.items()}\n",
        "\n",
        "# 나이브 베이즈 알고리즘을 이용하여 특성 예측\n",
        "def predict(age, level):\n",
        "    characteristic_probs = {}\n",
        "\n",
        "    # 각 특성에 대한 예측 확률 계산\n",
        "    for char in set([char for _, _, char in list_of_users]):\n",
        "        char_prob = log(class_feature_probs[level]['characteristic'][char] / class_counts[level] + 1e-9)\n",
        "        characteristic_probs[char] = char_prob\n",
        "\n",
        "    # 예측 확률이 가장 높은 특성 반환\n",
        "    return max(characteristic_probs, key=characteristic_probs.get)\n",
        "\n",
        "# 테스트 데이터\n",
        "test_age = 14\n",
        "test_level = 'A'\n",
        "\n",
        "# 특성 예측\n",
        "predicted_characteristic = predict(test_age, test_level)\n",
        "\n",
        "print(f\"The predicted characteristic for the test user is: {predicted_characteristic}\")"
      ]
    },
    {
      "cell_type": "code",
      "source": [
        "from collections import defaultdict\n",
        "from math import log\n",
        "\n",
        "# 데이터\n",
        "list_of_users = [\n",
        "    [14, 'A', 4],\n",
        "    [17, 'C', 2],\n",
        "    [18, 'B', 5],\n",
        "    [15, 'D', 3],\n",
        "    [16, 'E', 1]\n",
        "]\n",
        "\n",
        "# 클래스(레벨)별 각 특성의 확률을 저장할 딕셔너리\n",
        "class_feature_probs = defaultdict(lambda: defaultdict(lambda: defaultdict(int)))\n",
        "\n",
        "# 클래스별 개수를 저장할 딕셔너리\n",
        "class_counts = defaultdict(int)\n",
        "\n",
        "# 데이터에서 클래스별 특성의 개수 계산\n",
        "for user in list_of_users:\n",
        "    age, level, characteristic = user\n",
        "    class_feature_probs[level]['age'][age] += 1\n",
        "    class_feature_probs[level]['characteristic'][characteristic] += 1\n",
        "    class_counts[level] += 1\n",
        "\n",
        "# 클래스별 전체 개수 계산\n",
        "total_users = len(list_of_users)\n",
        "\n",
        "# 클래스별 사전 확률 계산\n",
        "class_probs = {level: count / total_users for level, count in class_counts.items()}\n",
        "\n",
        "# 나이브 베이즈 알고리즘을 이용하여 특성 예측\n",
        "def predict(age, level):\n",
        "    characteristic_probs = {}\n",
        "\n",
        "    # 각 특성에 대한 예측 확률 계산\n",
        "    for char in set([char for _, _, char in list_of_users]):\n",
        "        char_prob = log(class_feature_probs[level]['characteristic'][char] / class_counts[level] + 1e-9)\n",
        "        characteristic_probs[char] = char_prob\n",
        "\n",
        "    # 예측 확률이 가장 높은 특성 반환\n",
        "    return max(characteristic_probs, key=characteristic_probs.get)\n",
        "\n",
        "# 사용자에게 입력 받기\n",
        "test_age = int(input(\"나이를 입력하세요: \"))\n",
        "test_level = input(\"레벨을 입력하세요: \")\n",
        "\n",
        "# 특성 예측\n",
        "predicted_characteristic = predict(test_age, test_level)\n",
        "\n",
        "print(f\"The predicted characteristic for the test user is: {predicted_characteristic}\")"
      ],
      "metadata": {
        "colab": {
          "base_uri": "https://localhost:8080/"
        },
        "id": "b_yyP8v_Rw2h",
        "outputId": "3bf6b68b-9067-4a34-9b47-bd9e7faafff2"
      },
      "execution_count": 2,
      "outputs": [
        {
          "output_type": "stream",
          "name": "stdout",
          "text": [
            "나이를 입력하세요: 17\n",
            "레벨을 입력하세요: D\n",
            "The predicted characteristic for the test user is: 3\n"
          ]
        }
      ]
    },
    {
      "cell_type": "code",
      "source": [
        "from collections import defaultdict\n",
        "from math import log\n",
        "\n",
        "# 데이터\n",
        "list_of_users = [\n",
        "    [14, 'A', 4],\n",
        "    [17, 'C', 2],\n",
        "    [18, 'B', 5],\n",
        "    [15, 'D', 3],\n",
        "    [16, 'E', 1]\n",
        "]\n",
        "\n",
        "# 클래스(레벨)별 각 특성의 확률을 저장할 딕셔너리\n",
        "class_feature_probs = defaultdict(lambda: defaultdict(lambda: defaultdict(int)))\n",
        "\n",
        "# 클래스별 개수를 저장할 딕셔너리\n",
        "class_counts = defaultdict(int)\n",
        "\n",
        "# 데이터에서 클래스별 특성의 개수 계산\n",
        "for user in list_of_users:\n",
        "    age, level, characteristic = user\n",
        "    class_feature_probs[level]['age'][age] += 1\n",
        "    class_feature_probs[level]['characteristic'][characteristic] += 1\n",
        "    class_counts[level] += 1\n",
        "\n",
        "# 클래스별 전체 개수 계산\n",
        "total_users = len(list_of_users)\n",
        "\n",
        "# 클래스별 사전 확률 계산\n",
        "class_probs = {level: count / total_users for level, count in class_counts.items()}\n",
        "\n",
        "# 나이브 베이즈 알고리즘을 이용하여 특성 예측\n",
        "def predict(age, level):\n",
        "    characteristic_probs = {}\n",
        "\n",
        "    # 각 특성에 대한 예측 확률 계산\n",
        "    for char in set([char for _, _, char in list_of_users]):\n",
        "        char_prob = log(class_feature_probs[level]['characteristic'][char] / class_counts[level] + 1e-9)\n",
        "        characteristic_probs[char] = char_prob\n",
        "\n",
        "    # 예측 확률이 가장 높은 특성 반환\n",
        "    predicted_characteristic = max(characteristic_probs, key=characteristic_probs.get)\n",
        "\n",
        "    # 한글로 변환\n",
        "    characteristics_map = {\n",
        "        1: \"개념부터 탄탄하게\",\n",
        "        2: \"유형 적용하는 문제 많이\",\n",
        "        3: \"개념+유형\",\n",
        "        4: \"고난도 문제만\",\n",
        "        5: \"모의고사나 수능 기출 많이\"\n",
        "    }\n",
        "\n",
        "    return characteristics_map[predicted_characteristic]\n",
        "\n",
        "# 사용자에게 입력 받기\n",
        "test_age = int(input(\"나이를 입력하세요: \"))\n",
        "test_level = input(\"레벨을 입력하세요: \")\n",
        "\n",
        "# 특성 예측\n",
        "predicted_characteristic = predict(test_age, test_level)\n",
        "\n",
        "print(f\"The predicted characteristic for the test user is: {predicted_characteristic}\")"
      ],
      "metadata": {
        "colab": {
          "base_uri": "https://localhost:8080/"
        },
        "id": "JRW7HRUFR-4B",
        "outputId": "bf49d6c8-2ce9-409e-858b-c0044209a88c"
      },
      "execution_count": 3,
      "outputs": [
        {
          "output_type": "stream",
          "name": "stdout",
          "text": [
            "나이를 입력하세요: 17\n",
            "레벨을 입력하세요: A\n",
            "The predicted characteristic for the test user is: 고난도 문제만\n"
          ]
        }
      ]
    },
    {
      "cell_type": "code",
      "source": [],
      "metadata": {
        "id": "XGTFxadJTA7N"
      },
      "execution_count": null,
      "outputs": []
    }
  ]
}